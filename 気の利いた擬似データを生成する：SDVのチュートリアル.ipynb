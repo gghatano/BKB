{
  "nbformat": 4,
  "nbformat_minor": 0,
  "metadata": {
    "colab": {
      "name": "気の利いた擬似データを生成する：SDVのチュートリアル",
      "provenance": [],
      "authorship_tag": "ABX9TyMAFfcfTAaolJZjgQb3hQJQ",
      "include_colab_link": true
    },
    "kernelspec": {
      "name": "python3",
      "display_name": "Python 3"
    },
    "language_info": {
      "name": "python"
    }
  },
  "cells": [
    {
      "cell_type": "markdown",
      "metadata": {
        "id": "view-in-github",
        "colab_type": "text"
      },
      "source": [
        "<a href=\"https://colab.research.google.com/github/gghatano/BKB/blob/master/%E6%B0%97%E3%81%AE%E5%88%A9%E3%81%84%E3%81%9F%E6%93%AC%E4%BC%BC%E3%83%87%E3%83%BC%E3%82%BF%E3%82%92%E7%94%9F%E6%88%90%E3%81%99%E3%82%8B%EF%BC%9ASDV%E3%81%AE%E3%83%81%E3%83%A5%E3%83%BC%E3%83%88%E3%83%AA%E3%82%A2%E3%83%AB.ipynb\" target=\"_parent\"><img src=\"https://colab.research.google.com/assets/colab-badge.svg\" alt=\"Open In Colab\"/></a>"
      ]
    },
    {
      "cell_type": "markdown",
      "source": [
        "# \"気の利いた\" 擬似データを作成したい"
      ],
      "metadata": {
        "id": "AXIludKBayvV"
      }
    },
    {
      "cell_type": "markdown",
      "source": [
        "## 実データの取得は大変\n",
        "- データ分析やシステム開発のために、実データが必要になることは多々あります。\n",
        "- ただ、実データは限られた環境でしか扱えない/利用に際して多くの稟議を通さなくちゃいけない/etc...など、データ取得までは時間と両力がかかります。(注意して使わないといけないものなので、当然です)\n",
        "- 解決策として、データの見た目や統計量などの「保存して欲しい性質」を残しつつ、実データとは一定以上異なる「高度な擬似データ」を利用できる場合があります。"
      ],
      "metadata": {
        "id": "z6_yaqImoW6Q"
      }
    },
    {
      "cell_type": "markdown",
      "source": [
        "## 擬似データ生成手法と課題\n",
        "- 擬似データ生成を行う仕組みはいくつか提案されています。見た目や統計的な性質を保存しつつ、元データとは(適当な基準により)異なる、と言えるようなデータを、機械的に生成することができる手法が多いです。\n",
        "  - (いくつか既存手法を書いておく)\n",
        "- ただ、得られた擬似データに、元データのルールを上手に反映するのは、難しいです。\n",
        "  - 例えば、「年齢」「職歴」という列があったら、「5歳」「アルバイト」みたいな状態はありえない...というのが一般的かなと思います。\n",
        "  - こういうあり得ないデータを、あまり生成したくありません。"
      ],
      "metadata": {
        "id": "tVkQKQzEpoMt"
      }
    },
    {
      "cell_type": "markdown",
      "source": [
        "## 今回やること：SDVを使って、制約を反映した擬似データを生成する\n",
        "- 常識や業務的なルールを反映しやすそうな仕組みを持つ、擬似データ生成ライブラリ[SDV](https://github.com/sdv-dev/SDV)について、理解を深めてみます。\n",
        "  - [チュートリアル](https://sdv.dev/SDV/user_guides/single_table/handling_constraints.html)を参考に、実際に動かしてみます。"
      ],
      "metadata": {
        "id": "x5tH9b4UoZ6l"
      }
    },
    {
      "cell_type": "markdown",
      "source": [
        "# SDV-チュートリアルの内容確認"
      ],
      "metadata": {
        "id": "AuzLPQHMomBA"
      }
    },
    {
      "cell_type": "markdown",
      "source": [
        ":\n",
        "## SDVのインストール\n",
        "- pipから導入できます"
      ],
      "metadata": {
        "id": "b2QsnNmshyfR"
      }
    },
    {
      "cell_type": "code",
      "execution_count": null,
      "metadata": {
        "colab": {
          "base_uri": "https://localhost:8080/"
        },
        "id": "A0IVkq2aayLV",
        "outputId": "8b918902-e326-4ad4-ee2f-93ef2fe86762"
      },
      "outputs": [
        {
          "output_type": "stream",
          "name": "stdout",
          "text": [
            "Requirement already satisfied: sdv in /usr/local/lib/python3.7/dist-packages (0.13.0)\n",
            "Requirement already satisfied: graphviz<1,>=0.13.2 in /usr/local/lib/python3.7/dist-packages (from sdv) (0.19)\n",
            "Requirement already satisfied: deepecho<0.4,>=0.3.0.post1 in /usr/local/lib/python3.7/dist-packages (from sdv) (0.3.0.post1)\n",
            "Requirement already satisfied: Faker<10,>=3.0.0 in /usr/local/lib/python3.7/dist-packages (from sdv) (9.9.1)\n",
            "Requirement already satisfied: sdmetrics<0.5,>=0.4.0 in /usr/local/lib/python3.7/dist-packages (from sdv) (0.4.1)\n",
            "Requirement already satisfied: ctgan<0.6,>=0.5.0 in /usr/local/lib/python3.7/dist-packages (from sdv) (0.5.0)\n",
            "Requirement already satisfied: tqdm<5,>=4.15 in /usr/local/lib/python3.7/dist-packages (from sdv) (4.62.3)\n",
            "Requirement already satisfied: copulas<0.7,>=0.6.0 in /usr/local/lib/python3.7/dist-packages (from sdv) (0.6.0)\n",
            "Requirement already satisfied: numpy<2,>=1.20.0 in /usr/local/lib/python3.7/dist-packages (from sdv) (1.21.4)\n",
            "Requirement already satisfied: rdt<0.7,>=0.6.1 in /usr/local/lib/python3.7/dist-packages (from sdv) (0.6.1)\n",
            "Requirement already satisfied: pandas<2,>=1.1.3 in /usr/local/lib/python3.7/dist-packages (from sdv) (1.1.4)\n",
            "Requirement already satisfied: scipy<2,>=1.5.4 in /usr/local/lib/python3.7/dist-packages (from copulas<0.7,>=0.6.0->sdv) (1.7.3)\n",
            "Requirement already satisfied: matplotlib<4,>=3.2.0 in /usr/local/lib/python3.7/dist-packages (from copulas<0.7,>=0.6.0->sdv) (3.2.2)\n",
            "Requirement already satisfied: torch<2,>=1.8.0 in /usr/local/lib/python3.7/dist-packages (from ctgan<0.6,>=0.5.0->sdv) (1.10.0+cu111)\n",
            "Requirement already satisfied: scikit-learn<2,>=0.24 in /usr/local/lib/python3.7/dist-packages (from ctgan<0.6,>=0.5.0->sdv) (1.0.1)\n",
            "Requirement already satisfied: packaging<22,>=20 in /usr/local/lib/python3.7/dist-packages (from ctgan<0.6,>=0.5.0->sdv) (21.3)\n",
            "Requirement already satisfied: torchvision<1,>=0.9.0 in /usr/local/lib/python3.7/dist-packages (from ctgan<0.6,>=0.5.0->sdv) (0.11.1+cu111)\n",
            "Requirement already satisfied: python-dateutil>=2.4 in /usr/local/lib/python3.7/dist-packages (from Faker<10,>=3.0.0->sdv) (2.8.2)\n",
            "Requirement already satisfied: text-unidecode==1.3 in /usr/local/lib/python3.7/dist-packages (from Faker<10,>=3.0.0->sdv) (1.3)\n",
            "Requirement already satisfied: typing-extensions>=3.10.0.2 in /usr/local/lib/python3.7/dist-packages (from Faker<10,>=3.0.0->sdv) (3.10.0.2)\n",
            "Requirement already satisfied: cycler>=0.10 in /usr/local/lib/python3.7/dist-packages (from matplotlib<4,>=3.2.0->copulas<0.7,>=0.6.0->sdv) (0.11.0)\n",
            "Requirement already satisfied: pyparsing!=2.0.4,!=2.1.2,!=2.1.6,>=2.0.1 in /usr/local/lib/python3.7/dist-packages (from matplotlib<4,>=3.2.0->copulas<0.7,>=0.6.0->sdv) (3.0.6)\n",
            "Requirement already satisfied: kiwisolver>=1.0.1 in /usr/local/lib/python3.7/dist-packages (from matplotlib<4,>=3.2.0->copulas<0.7,>=0.6.0->sdv) (1.3.2)\n",
            "Requirement already satisfied: pytz>=2017.2 in /usr/local/lib/python3.7/dist-packages (from pandas<2,>=1.1.3->sdv) (2018.9)\n",
            "Requirement already satisfied: six>=1.5 in /usr/local/lib/python3.7/dist-packages (from python-dateutil>=2.4->Faker<10,>=3.0.0->sdv) (1.15.0)\n",
            "Requirement already satisfied: psutil<6,>=5.7 in /usr/local/lib/python3.7/dist-packages (from rdt<0.7,>=0.6.1->sdv) (5.8.0)\n",
            "Requirement already satisfied: joblib>=0.11 in /usr/local/lib/python3.7/dist-packages (from scikit-learn<2,>=0.24->ctgan<0.6,>=0.5.0->sdv) (1.1.0)\n",
            "Requirement already satisfied: threadpoolctl>=2.0.0 in /usr/local/lib/python3.7/dist-packages (from scikit-learn<2,>=0.24->ctgan<0.6,>=0.5.0->sdv) (3.0.0)\n",
            "Requirement already satisfied: pyts<0.13.0,>=0.12.0 in /usr/local/lib/python3.7/dist-packages (from sdmetrics<0.5,>=0.4.0->sdv) (0.12.0)\n",
            "Requirement already satisfied: numba>=0.48.0 in /usr/local/lib/python3.7/dist-packages (from pyts<0.13.0,>=0.12.0->sdmetrics<0.5,>=0.4.0->sdv) (0.51.2)\n",
            "Requirement already satisfied: llvmlite<0.35,>=0.34.0.dev0 in /usr/local/lib/python3.7/dist-packages (from numba>=0.48.0->pyts<0.13.0,>=0.12.0->sdmetrics<0.5,>=0.4.0->sdv) (0.34.0)\n",
            "Requirement already satisfied: setuptools in /usr/local/lib/python3.7/dist-packages (from numba>=0.48.0->pyts<0.13.0,>=0.12.0->sdmetrics<0.5,>=0.4.0->sdv) (57.4.0)\n",
            "Requirement already satisfied: pillow!=8.3.0,>=5.3.0 in /usr/local/lib/python3.7/dist-packages (from torchvision<1,>=0.9.0->ctgan<0.6,>=0.5.0->sdv) (7.1.2)\n"
          ]
        }
      ],
      "source": [
        "! pip install sdv\n",
        "from sdv.demo import load_tabular_demo\n",
        "import pandas as pd\n"
      ]
    },
    {
      "cell_type": "markdown",
      "source": [
        "## 扱うデータ・ルールの確認\n",
        "- SDVに含まれている、従業員データセットを確認してみます。\n",
        "  - 仮想の複数社に所属する従業員の方の、所属や給料、雇用形態などが含まれるダミーデータです。"
      ],
      "metadata": {
        "id": "BjUP2pmMn68j"
      }
    },
    {
      "cell_type": "code",
      "source": [
        "employees = load_tabular_demo()\n",
        "print(employees.columns)\n",
        "employees.head()"
      ],
      "metadata": {
        "colab": {
          "base_uri": "https://localhost:8080/",
          "height": 309
        },
        "id": "dzC0ga6Lh9pW",
        "outputId": "89b80def-672b-4e41-e265-76858c3340d9"
      },
      "execution_count": null,
      "outputs": [
        {
          "output_type": "stream",
          "name": "stdout",
          "text": [
            "Index(['company', 'department', 'employee_id', 'age', 'age_when_joined',\n",
            "       'years_in_the_company', 'salary', 'annual_bonus',\n",
            "       'prior_years_experience', 'full_time', 'part_time', 'contractor'],\n",
            "      dtype='object')\n"
          ]
        },
        {
          "output_type": "execute_result",
          "data": {
            "text/html": [
              "<div>\n",
              "<style scoped>\n",
              "    .dataframe tbody tr th:only-of-type {\n",
              "        vertical-align: middle;\n",
              "    }\n",
              "\n",
              "    .dataframe tbody tr th {\n",
              "        vertical-align: top;\n",
              "    }\n",
              "\n",
              "    .dataframe thead th {\n",
              "        text-align: right;\n",
              "    }\n",
              "</style>\n",
              "<table border=\"1\" class=\"dataframe\">\n",
              "  <thead>\n",
              "    <tr style=\"text-align: right;\">\n",
              "      <th></th>\n",
              "      <th>company</th>\n",
              "      <th>department</th>\n",
              "      <th>employee_id</th>\n",
              "      <th>age</th>\n",
              "      <th>age_when_joined</th>\n",
              "      <th>years_in_the_company</th>\n",
              "      <th>salary</th>\n",
              "      <th>annual_bonus</th>\n",
              "      <th>prior_years_experience</th>\n",
              "      <th>full_time</th>\n",
              "      <th>part_time</th>\n",
              "      <th>contractor</th>\n",
              "    </tr>\n",
              "  </thead>\n",
              "  <tbody>\n",
              "    <tr>\n",
              "      <th>0</th>\n",
              "      <td>Pear</td>\n",
              "      <td>Sales</td>\n",
              "      <td>1</td>\n",
              "      <td>41</td>\n",
              "      <td>38</td>\n",
              "      <td>3</td>\n",
              "      <td>97000.00</td>\n",
              "      <td>13000.00</td>\n",
              "      <td>1</td>\n",
              "      <td>1.0</td>\n",
              "      <td>0.0</td>\n",
              "      <td>0.0</td>\n",
              "    </tr>\n",
              "    <tr>\n",
              "      <th>1</th>\n",
              "      <td>Pear</td>\n",
              "      <td>Design</td>\n",
              "      <td>5</td>\n",
              "      <td>49</td>\n",
              "      <td>42</td>\n",
              "      <td>7</td>\n",
              "      <td>77172.68</td>\n",
              "      <td>13241.72</td>\n",
              "      <td>2</td>\n",
              "      <td>0.0</td>\n",
              "      <td>0.0</td>\n",
              "      <td>1.0</td>\n",
              "    </tr>\n",
              "    <tr>\n",
              "      <th>2</th>\n",
              "      <td>Glasses</td>\n",
              "      <td>AI</td>\n",
              "      <td>1</td>\n",
              "      <td>38</td>\n",
              "      <td>34</td>\n",
              "      <td>4</td>\n",
              "      <td>49500.00</td>\n",
              "      <td>21500.00</td>\n",
              "      <td>3</td>\n",
              "      <td>1.0</td>\n",
              "      <td>0.0</td>\n",
              "      <td>0.0</td>\n",
              "    </tr>\n",
              "    <tr>\n",
              "      <th>3</th>\n",
              "      <td>Glasses</td>\n",
              "      <td>Search Engine</td>\n",
              "      <td>7</td>\n",
              "      <td>45</td>\n",
              "      <td>41</td>\n",
              "      <td>4</td>\n",
              "      <td>52125.94</td>\n",
              "      <td>8804.94</td>\n",
              "      <td>2</td>\n",
              "      <td>0.0</td>\n",
              "      <td>0.0</td>\n",
              "      <td>1.0</td>\n",
              "    </tr>\n",
              "    <tr>\n",
              "      <th>4</th>\n",
              "      <td>Cheerper</td>\n",
              "      <td>BigData</td>\n",
              "      <td>6</td>\n",
              "      <td>47</td>\n",
              "      <td>40</td>\n",
              "      <td>7</td>\n",
              "      <td>47500.00</td>\n",
              "      <td>11500.00</td>\n",
              "      <td>3</td>\n",
              "      <td>0.0</td>\n",
              "      <td>1.0</td>\n",
              "      <td>0.0</td>\n",
              "    </tr>\n",
              "  </tbody>\n",
              "</table>\n",
              "</div>"
            ],
            "text/plain": [
              "    company     department  employee_id  ...  full_time  part_time  contractor\n",
              "0      Pear          Sales            1  ...        1.0        0.0         0.0\n",
              "1      Pear         Design            5  ...        0.0        0.0         1.0\n",
              "2   Glasses             AI            1  ...        1.0        0.0         0.0\n",
              "3   Glasses  Search Engine            7  ...        0.0        0.0         1.0\n",
              "4  Cheerper        BigData            6  ...        0.0        1.0         0.0\n",
              "\n",
              "[5 rows x 12 columns]"
            ]
          },
          "metadata": {},
          "execution_count": 17
        }
      ]
    },
    {
      "cell_type": "markdown",
      "source": [
        "## データのルールの確認\n",
        "よく観察してデータの意味を考えると、いくつか制約が思いつきます。例えば...\n",
        "- 一意性制約\n",
        "  - company(会社)ごとに一意なemployee_id(社員ID)が振られるはずなので、「(company, employee_id)は一意」\n",
        "- 不等式で表現できる制約 (定数との比較や他列との比較)\n",
        "  - salary(月給？)の値を考えると、「$\\text{salary} \\geq 0$」\n",
        "  - age(今の年齢)とage_when_joined(入社した時の年齢)の関係を考えると、「$\\text{age} \\geq \\text{age_when_joined}$」\n",
        "  - age年齢なので、従業員っぽい年齢(一旦16歳から80歳までとします)なはずなので、「$16\\leq\\text{age}\\leq 80$」\n",
        "- 等式で表現できる制約\n",
        "  - 「$\\text{age} - \\text{age_when-joined} = \\text{years_in_the_company}$」\n",
        "- 値のデータ型に関する制約\n",
        "  - salary列の表現を参考に、「$\\text{salary}$は小数第2位で表す」\n",
        "  - $\\text{full_time}$, $\\text{part_time}$, $\\text{contractor}$は、どれかが1で他が0になっている(3種類の値が含まれる契約形態列をone-hot-encodingしたもの、という背景があるみたいです)：「$\\text{full_time} + \\text{part_time} + \\text{contractor} = 1$,  $\\text{full_time}, \\text{part_time}, \\text{contractor} \\in \\{0,1\\}$」\n",
        "\n",
        "などがあり、それぞれを反映した擬似データを作る...ための仕組みが用意されています。\n",
        "\n",
        "(前処理や後処理で対応する方が良さそうなもの...もありますが、管理の手間の観点で、データのルールを全部擬似データ生成時に反映する、という戦略もアリな気がしています)\n",
        "\n",
        "\n",
        "\n"
      ],
      "metadata": {
        "id": "vqVM6yqNcOQh"
      }
    },
    {
      "cell_type": "markdown",
      "source": [
        "## Reject samplingについて\n",
        "制約を反映する方法には2通りあって、\n",
        "- 上手い変換を考える\n",
        "  - $\\text{age} \\geq \\text{age_when-joined}$ について、$\\text{diff} = \\text{age} - \\text{age_when-joined}$の値だけ保存しておく\n",
        "  - $\\text{age_when-joined}$を生成して、$\\text{diff}$を足してできる列を$\\text{age}$とする \n",
        "- 制約を満たさないレコードを棄却して、生成し直す"
      ],
      "metadata": {
        "id": "NoxhoeOFhtOA"
      }
    },
    {
      "cell_type": "markdown",
      "source": [
        "## 制約の反映"
      ],
      "metadata": {
        "id": "e0J1zbsosuH6"
      }
    },
    {
      "cell_type": "markdown",
      "source": [
        "### 一意性制約\n",
        "- sdv.constraints.Uniqueを使います\n",
        "  - 一意になる列の組を入力します\n",
        "  "
      ],
      "metadata": {
        "id": "1jPNfmEGjRhq"
      }
    },
    {
      "cell_type": "code",
      "source": [
        "from sdv.constraints import Unique\n",
        "unique_employee_id_company_constraint = Unique(\n",
        "    columns = ['company', 'employee_id']\n",
        ")"
      ],
      "metadata": {
        "id": "Skafj0OYbhZZ"
      },
      "execution_count": null,
      "outputs": []
    },
    {
      "cell_type": "markdown",
      "source": [
        "## データの生成\n",
        "- データ生成の手法には幾つかあり、大まかには「コピュラベースの手法」「深層学習ベースの手法」が用意されています。同じように使えるので、両方を触ってみます。"
      ],
      "metadata": {
        "id": "Kt1tROYfq70N"
      }
    },
    {
      "cell_type": "code",
      "source": [
        "## 制約の反映\n",
        "from sdv.tabular import GaussianCopula\n",
        "from sdv.tabular import CTGAN\n",
        "constraints = [\n",
        "               unique_employee_id_company_constraint\n",
        "]\n",
        "gc = GaussianCopula(constraints=constraints)\n",
        "ct = CTGAN(constraints=constraints)"
      ],
      "metadata": {
        "id": "I_MhdClzjQBq"
      },
      "execution_count": null,
      "outputs": []
    },
    {
      "cell_type": "code",
      "source": [
        "## 学習・データ生成\n",
        "gc.fit(employees)\n",
        "ct.fit(employees)\n",
        "sampled_gc = gc.sample(100)\n",
        "sampled_ct = gc.sample(100)"
      ],
      "metadata": {
        "colab": {
          "base_uri": "https://localhost:8080/"
        },
        "id": "4SjW0xlQjqMz",
        "outputId": "1f537077-caa9-4d14-bfb2-336b70d05206"
      },
      "execution_count": null,
      "outputs": [
        {
          "output_type": "stream",
          "name": "stderr",
          "text": [
            "/usr/local/lib/python3.7/dist-packages/scipy/stats/_continuous_distns.py:639: RuntimeWarning: invalid value encountered in sqrt\n",
            "  sk = 2*(b-a)*np.sqrt(a + b + 1) / (a + b + 2) / np.sqrt(a*b)\n",
            "/usr/local/lib/python3.7/dist-packages/scipy/optimize/minpack.py:175: RuntimeWarning: The iteration is not making good progress, as measured by the \n",
            "  improvement from the last ten iterations.\n",
            "  warnings.warn(msg, RuntimeWarning)\n",
            "/usr/local/lib/python3.7/dist-packages/scipy/stats/_continuous_distns.py:5320: RuntimeWarning: divide by zero encountered in true_divide\n",
            "  return c**2 / (c**2 - n**2)\n",
            "/usr/local/lib/python3.7/dist-packages/scipy/stats/_distn_infrastructure.py:2606: RuntimeWarning: invalid value encountered in double_scalars\n",
            "  Lhat = muhat - Shat*mu\n",
            "/usr/local/lib/python3.7/dist-packages/copulas/univariate/truncated_gaussian.py:43: RuntimeWarning: invalid value encountered in double_scalars\n",
            "  a = (self.min - loc) / scale\n",
            "/usr/local/lib/python3.7/dist-packages/copulas/univariate/truncated_gaussian.py:44: RuntimeWarning: divide by zero encountered in double_scalars\n",
            "  b = (self.max - loc) / scale\n",
            "/usr/local/lib/python3.7/dist-packages/sklearn/mixture/_base.py:146: ConvergenceWarning: Number of distinct clusters (5) found smaller than n_clusters (10). Possibly due to duplicate points in X.\n",
            "  .fit(X)\n",
            "/usr/local/lib/python3.7/dist-packages/sklearn/mixture/_base.py:146: ConvergenceWarning: Number of distinct clusters (4) found smaller than n_clusters (10). Possibly due to duplicate points in X.\n",
            "  .fit(X)\n"
          ]
        }
      ]
    },
    {
      "cell_type": "code",
      "source": [
        "## 内容確認\n",
        "sampled_gc.head()"
      ],
      "metadata": {
        "colab": {
          "base_uri": "https://localhost:8080/",
          "height": 241
        },
        "id": "TV5MrlPHjqt5",
        "outputId": "92bc706f-a86a-45e4-be34-f25174107744"
      },
      "execution_count": null,
      "outputs": [
        {
          "output_type": "execute_result",
          "data": {
            "text/html": [
              "<div>\n",
              "<style scoped>\n",
              "    .dataframe tbody tr th:only-of-type {\n",
              "        vertical-align: middle;\n",
              "    }\n",
              "\n",
              "    .dataframe tbody tr th {\n",
              "        vertical-align: top;\n",
              "    }\n",
              "\n",
              "    .dataframe thead th {\n",
              "        text-align: right;\n",
              "    }\n",
              "</style>\n",
              "<table border=\"1\" class=\"dataframe\">\n",
              "  <thead>\n",
              "    <tr style=\"text-align: right;\">\n",
              "      <th></th>\n",
              "      <th>company</th>\n",
              "      <th>department</th>\n",
              "      <th>employee_id</th>\n",
              "      <th>age</th>\n",
              "      <th>age_when_joined</th>\n",
              "      <th>years_in_the_company</th>\n",
              "      <th>salary</th>\n",
              "      <th>annual_bonus</th>\n",
              "      <th>prior_years_experience</th>\n",
              "      <th>full_time</th>\n",
              "      <th>part_time</th>\n",
              "      <th>contractor</th>\n",
              "    </tr>\n",
              "  </thead>\n",
              "  <tbody>\n",
              "    <tr>\n",
              "      <th>0</th>\n",
              "      <td>Cheerper</td>\n",
              "      <td>BigData</td>\n",
              "      <td>27</td>\n",
              "      <td>31</td>\n",
              "      <td>25</td>\n",
              "      <td>5</td>\n",
              "      <td>37570.88</td>\n",
              "      <td>20875.04</td>\n",
              "      <td>2</td>\n",
              "      <td>0.0</td>\n",
              "      <td>1.0</td>\n",
              "      <td>0.0</td>\n",
              "    </tr>\n",
              "    <tr>\n",
              "      <th>1</th>\n",
              "      <td>Cheerper</td>\n",
              "      <td>AI</td>\n",
              "      <td>9</td>\n",
              "      <td>40</td>\n",
              "      <td>33</td>\n",
              "      <td>4</td>\n",
              "      <td>96523.89</td>\n",
              "      <td>14440.50</td>\n",
              "      <td>2</td>\n",
              "      <td>1.0</td>\n",
              "      <td>0.0</td>\n",
              "      <td>0.0</td>\n",
              "    </tr>\n",
              "    <tr>\n",
              "      <th>2</th>\n",
              "      <td>Glasses</td>\n",
              "      <td>Search Engine</td>\n",
              "      <td>1</td>\n",
              "      <td>49</td>\n",
              "      <td>47</td>\n",
              "      <td>3</td>\n",
              "      <td>42449.92</td>\n",
              "      <td>18159.33</td>\n",
              "      <td>1</td>\n",
              "      <td>0.0</td>\n",
              "      <td>1.0</td>\n",
              "      <td>0.0</td>\n",
              "    </tr>\n",
              "    <tr>\n",
              "      <th>3</th>\n",
              "      <td>Pear</td>\n",
              "      <td>Design</td>\n",
              "      <td>21</td>\n",
              "      <td>36</td>\n",
              "      <td>27</td>\n",
              "      <td>8</td>\n",
              "      <td>44104.33</td>\n",
              "      <td>9730.32</td>\n",
              "      <td>3</td>\n",
              "      <td>0.0</td>\n",
              "      <td>0.0</td>\n",
              "      <td>1.0</td>\n",
              "    </tr>\n",
              "    <tr>\n",
              "      <th>4</th>\n",
              "      <td>Glasses</td>\n",
              "      <td>AI</td>\n",
              "      <td>38</td>\n",
              "      <td>38</td>\n",
              "      <td>36</td>\n",
              "      <td>1</td>\n",
              "      <td>66113.15</td>\n",
              "      <td>19152.20</td>\n",
              "      <td>2</td>\n",
              "      <td>1.0</td>\n",
              "      <td>0.0</td>\n",
              "      <td>0.0</td>\n",
              "    </tr>\n",
              "  </tbody>\n",
              "</table>\n",
              "</div>"
            ],
            "text/plain": [
              "    company     department  employee_id  ...  full_time  part_time  contractor\n",
              "0  Cheerper        BigData           27  ...        0.0        1.0         0.0\n",
              "1  Cheerper             AI            9  ...        1.0        0.0         0.0\n",
              "2   Glasses  Search Engine            1  ...        0.0        1.0         0.0\n",
              "3      Pear         Design           21  ...        0.0        0.0         1.0\n",
              "4   Glasses             AI           38  ...        1.0        0.0         0.0\n",
              "\n",
              "[5 rows x 12 columns]"
            ]
          },
          "metadata": {},
          "execution_count": 29
        }
      ]
    },
    {
      "cell_type": "code",
      "source": [
        "sampled_ct.head()"
      ],
      "metadata": {
        "colab": {
          "base_uri": "https://localhost:8080/",
          "height": 224
        },
        "id": "wCWKj2SGrWn6",
        "outputId": "9edc927e-f331-4b63-845a-6a47479d6815"
      },
      "execution_count": null,
      "outputs": [
        {
          "output_type": "execute_result",
          "data": {
            "text/html": [
              "<div>\n",
              "<style scoped>\n",
              "    .dataframe tbody tr th:only-of-type {\n",
              "        vertical-align: middle;\n",
              "    }\n",
              "\n",
              "    .dataframe tbody tr th {\n",
              "        vertical-align: top;\n",
              "    }\n",
              "\n",
              "    .dataframe thead th {\n",
              "        text-align: right;\n",
              "    }\n",
              "</style>\n",
              "<table border=\"1\" class=\"dataframe\">\n",
              "  <thead>\n",
              "    <tr style=\"text-align: right;\">\n",
              "      <th></th>\n",
              "      <th>company</th>\n",
              "      <th>department</th>\n",
              "      <th>employee_id</th>\n",
              "      <th>age</th>\n",
              "      <th>age_when_joined</th>\n",
              "      <th>years_in_the_company</th>\n",
              "      <th>salary</th>\n",
              "      <th>annual_bonus</th>\n",
              "      <th>prior_years_experience</th>\n",
              "      <th>full_time</th>\n",
              "      <th>part_time</th>\n",
              "      <th>contractor</th>\n",
              "    </tr>\n",
              "  </thead>\n",
              "  <tbody>\n",
              "    <tr>\n",
              "      <th>0</th>\n",
              "      <td>Pear</td>\n",
              "      <td>Sales</td>\n",
              "      <td>1</td>\n",
              "      <td>48</td>\n",
              "      <td>42</td>\n",
              "      <td>4</td>\n",
              "      <td>71737.32</td>\n",
              "      <td>10587.92</td>\n",
              "      <td>2</td>\n",
              "      <td>1.0</td>\n",
              "      <td>0.0</td>\n",
              "      <td>0.0</td>\n",
              "    </tr>\n",
              "    <tr>\n",
              "      <th>1</th>\n",
              "      <td>Glasses</td>\n",
              "      <td>AI</td>\n",
              "      <td>57</td>\n",
              "      <td>49</td>\n",
              "      <td>45</td>\n",
              "      <td>4</td>\n",
              "      <td>67896.10</td>\n",
              "      <td>11020.15</td>\n",
              "      <td>4</td>\n",
              "      <td>0.0</td>\n",
              "      <td>0.0</td>\n",
              "      <td>1.0</td>\n",
              "    </tr>\n",
              "    <tr>\n",
              "      <th>2</th>\n",
              "      <td>Glasses</td>\n",
              "      <td>AI</td>\n",
              "      <td>1</td>\n",
              "      <td>37</td>\n",
              "      <td>32</td>\n",
              "      <td>3</td>\n",
              "      <td>51383.26</td>\n",
              "      <td>24500.00</td>\n",
              "      <td>3</td>\n",
              "      <td>1.0</td>\n",
              "      <td>0.0</td>\n",
              "      <td>0.0</td>\n",
              "    </tr>\n",
              "    <tr>\n",
              "      <th>3</th>\n",
              "      <td>Glasses</td>\n",
              "      <td>Support</td>\n",
              "      <td>18</td>\n",
              "      <td>49</td>\n",
              "      <td>46</td>\n",
              "      <td>4</td>\n",
              "      <td>100189.79</td>\n",
              "      <td>6800.41</td>\n",
              "      <td>2</td>\n",
              "      <td>0.0</td>\n",
              "      <td>0.0</td>\n",
              "      <td>0.0</td>\n",
              "    </tr>\n",
              "    <tr>\n",
              "      <th>4</th>\n",
              "      <td>Glasses</td>\n",
              "      <td>AI</td>\n",
              "      <td>29</td>\n",
              "      <td>37</td>\n",
              "      <td>36</td>\n",
              "      <td>1</td>\n",
              "      <td>88555.73</td>\n",
              "      <td>15394.55</td>\n",
              "      <td>4</td>\n",
              "      <td>1.0</td>\n",
              "      <td>0.0</td>\n",
              "      <td>1.0</td>\n",
              "    </tr>\n",
              "  </tbody>\n",
              "</table>\n",
              "</div>"
            ],
            "text/plain": [
              "   company department  employee_id  ...  full_time  part_time  contractor\n",
              "0     Pear      Sales            1  ...        1.0        0.0         0.0\n",
              "1  Glasses         AI           57  ...        0.0        0.0         1.0\n",
              "2  Glasses         AI            1  ...        1.0        0.0         0.0\n",
              "3  Glasses    Support           18  ...        0.0        0.0         0.0\n",
              "4  Glasses         AI           29  ...        1.0        0.0         1.0\n",
              "\n",
              "[5 rows x 12 columns]"
            ]
          },
          "metadata": {},
          "execution_count": 30
        }
      ]
    },
    {
      "cell_type": "code",
      "source": [
        ""
      ],
      "metadata": {
        "id": "rt9Xgaq_sBKs"
      },
      "execution_count": null,
      "outputs": []
    }
  ]
}